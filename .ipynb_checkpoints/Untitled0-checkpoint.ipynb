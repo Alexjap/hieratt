{
 "metadata": {
  "name": "",
  "signature": "sha256:e9e8470aa2d4cc729e50d37dc28f00c071c4415b1862f713393f4b8fce6ad2b1"
 },
 "nbformat": 3,
 "nbformat_minor": 0,
 "worksheets": [
  {
   "cells": [
    {
     "cell_type": "code",
     "collapsed": false,
     "input": [
      "import pickle\n",
      "%pylab inline"
     ],
     "language": "python",
     "metadata": {},
     "outputs": []
    },
    {
     "cell_type": "code",
     "collapsed": false,
     "input": [
      "history = .read().split('\\n')"
     ],
     "language": "python",
     "metadata": {},
     "outputs": []
    },
    {
     "cell_type": "code",
     "collapsed": false,
     "input": [
      "a = pickle.load(open(r'history.pkl'))"
     ],
     "language": "python",
     "metadata": {},
     "outputs": []
    },
    {
     "cell_type": "code",
     "collapsed": false,
     "input": [
      "figure(figsize=(15, 8))\n",
      "plot(np.ones(len(a['acc'])), linestyle='--')\n",
      "plot(a['acc'], label='train acc')\n",
      "plot(a['loss'], label='train loss')\n",
      "plot(a['val_acc'], label='val acc')\n",
      "plot(a['val_loss'], label='val loss')\n",
      "plt.legend()"
     ],
     "language": "python",
     "metadata": {},
     "outputs": []
    },
    {
     "cell_type": "code",
     "collapsed": false,
     "input": [],
     "language": "python",
     "metadata": {},
     "outputs": []
    },
    {
     "cell_type": "code",
     "collapsed": false,
     "input": [
      "%load vqa_experiment.py"
     ],
     "language": "python",
     "metadata": {},
     "outputs": []
    },
    {
     "cell_type": "code",
     "collapsed": false,
     "input": [
      "\n"
     ],
     "language": "python",
     "metadata": {},
     "outputs": []
    },
    {
     "cell_type": "code",
     "collapsed": false,
     "input": [
      "import sys\n",
      "sys.path.append( \"../deep-learning-models/\")\n",
      "from vgg19 import VGG19\n",
      "from keras.preprocessing import image\n",
      "from imagenet_utils import preprocess_input\n",
      "from keras.models import Model\n",
      "from keras.preprocessing import image\n",
      "from imagenet_utils import preprocess_input\n",
      "import numpy as np\n",
      "\n",
      "from keras.layers import Input, merge\n",
      "from keras.layers.core import Flatten, Dense, Dropout, Reshape\n",
      "from keras.layers.core import TimeDistributedDense, RepeatVector, Permute, Lambda\n",
      "from keras.layers.convolutional import Convolution2D, MaxPooling2D\n",
      "from keras.layers.convolutional import ZeroPadding2D\n",
      "from keras.optimizers import SGD\n",
      "import keras.backend as K\n",
      "\n",
      "base_model = VGG19(weights='imagenet')\n",
      "\n",
      "\n",
      "def repeat_1(x):\n",
      "    \"\"\"Wrap keras backend repeat.\"\"\"\n",
      "    return K.repeat_elements(x, 32, 2)\n",
      "\n",
      "def sum_(x):\n",
      "    \"\"\"Wrap keras backend sum.\"\"\"\n",
      "    return K.sum(x, axis=1)\n",
      "\n",
      "base_model.summary()"
     ],
     "language": "python",
     "metadata": {},
     "outputs": []
    },
    {
     "cell_type": "code",
     "collapsed": false,
     "input": [
      "for i in base_model.layers:\n",
      "    print i.name"
     ],
     "language": "python",
     "metadata": {},
     "outputs": []
    },
    {
     "cell_type": "code",
     "collapsed": false,
     "input": [
      "query_in_size = 100\n",
      "query_embed_size = 100\n",
      "img_in = base_model.input\n",
      "input_question = Input(shape=(query_in_size,))\n",
      "f_1 = Model(input=img_in, output=base_model.get_layer('block3_pool').output)\n",
      "f_1 = f_1(img_in)"
     ],
     "language": "python",
     "metadata": {},
     "outputs": []
    },
    {
     "cell_type": "code",
     "collapsed": false,
     "input": [
      "f_1 = Reshape((256, 28*28))(f_1)\n",
      "f_1 = Permute((2,1))(f_1)\n",
      "\n",
      "\n",
      "q_1   = Dense(query_embed_size, activation='relu')(input_question)  # Encode question\n",
      "# Add question embedding to each feature column\n",
      "q_1   = RepeatVector(28*28)(q_1)\n",
      "q_f   = merge([f_1, q_1], 'concat')\n",
      "# Estimate and apply attention per feature\n",
      "att_1 = TimeDistributedDense(1, activation=\"sigmoid\")(q_f)\n",
      "att_1 = Lambda(repeat_1, output_shape=(28*28, 256))(att_1)\n",
      "att_1 = merge([f_1, att_1], 'mul')\n",
      "# Reshape to the original feature map from previous layer\n",
      "att_1 = Permute((2,1))(att_1)\n",
      "f_1_att = Reshape((256, 28, 28))(att_1)\n",
      "\n",
      "block_4 = Model(input=base_model.get_layer('block4_conv1').input, \n",
      "                output=base_model.get_layer('block4_pool').output)\n",
      "# f_1 = f_1(img_in)\n",
      "\n",
      "\n",
      "# model = Model(input=[img_in, input_question], output=f_1_att)\n",
      "# model.summary()"
     ],
     "language": "python",
     "metadata": {},
     "outputs": []
    },
    {
     "cell_type": "code",
     "collapsed": false,
     "input": [],
     "language": "python",
     "metadata": {},
     "outputs": []
    },
    {
     "cell_type": "code",
     "collapsed": false,
     "input": [],
     "language": "python",
     "metadata": {},
     "outputs": []
    },
    {
     "cell_type": "code",
     "collapsed": false,
     "input": [
      "img_path = \"../../../roaming/public_datasets/Birds/CUB_200_2011/images/001.Black_footed_Albatross/Black_Footed_Albatross_0010_796097.jpg\"\n",
      "img = image.load_img(img_path, target_size=(224, 224))\n",
      "x = image.img_to_array(img)\n",
      "x = np.expand_dims(x, axis=0)\n",
      "x = preprocess_input(x)"
     ],
     "language": "python",
     "metadata": {},
     "outputs": []
    },
    {
     "cell_type": "code",
     "collapsed": false,
     "input": [
      "block4pool = base_model.get_layer('fc1')"
     ],
     "language": "python",
     "metadata": {},
     "outputs": []
    },
    {
     "cell_type": "code",
     "collapsed": false,
     "input": [
      "out = block4pool(img_in)"
     ],
     "language": "python",
     "metadata": {},
     "outputs": []
    },
    {
     "cell_type": "code",
     "collapsed": false,
     "input": [
      "model = Model(input=img_in, output=out)\n",
      "model.summary()"
     ],
     "language": "python",
     "metadata": {},
     "outputs": []
    },
    {
     "cell_type": "code",
     "collapsed": false,
     "input": [
      "%load model.py"
     ],
     "language": "python",
     "metadata": {},
     "outputs": []
    },
    {
     "cell_type": "code",
     "collapsed": false,
     "input": [
      "from __future__ import print_function\n",
      "\n",
      "import numpy as np\n",
      "import warnings\n",
      "\n",
      "from keras.models import Model\n",
      "from keras.layers import Flatten, Dense, Input\n",
      "from keras.layers import Convolution2D, MaxPooling2D\n",
      "from keras.preprocessing import image\n",
      "from keras.utils.layer_utils import convert_all_kernels_in_model\n",
      "from keras.utils.data_utils import get_file\n",
      "from keras import backend as K\n",
      "from imagenet_utils import decode_predictions, preprocess_input\n",
      "\n",
      "TH_WEIGHTS_PATH = 'https://github.com/fchollet/deep-learning-models/releases/download/v0.1/vgg19_weights_th_dim_ordering_th_kernels.h5'\n",
      "TF_WEIGHTS_PATH = 'https://github.com/fchollet/deep-learning-models/releases/download/v0.1/vgg19_weights_tf_dim_ordering_tf_kernels.h5'\n",
      "TH_WEIGHTS_PATH_NO_TOP = 'https://github.com/fchollet/deep-learning-models/releases/download/v0.1/vgg19_weights_th_dim_ordering_th_kernels_notop.h5'\n",
      "TF_WEIGHTS_PATH_NO_TOP = 'https://github.com/fchollet/deep-learning-models/releases/download/v0.1/vgg19_weights_tf_dim_ordering_tf_kernels_notop.h5'\n",
      "\n",
      "\n",
      "def VGG19(include_top=True, weights='imagenet',\n",
      "          input_tensor=None, query_embed_size=100,\n",
      "          query_in_size=300):\n",
      "    '''Instantiate the VGG19 architecture,\n",
      "    optionally loading weights pre-trained\n",
      "    on ImageNet. Note that when using TensorFlow,\n",
      "    for best performance you should set\n",
      "    `image_dim_ordering=\"tf\"` in your Keras config\n",
      "    at ~/.keras/keras.json.\n",
      "\n",
      "    The model and the weights are compatible with both\n",
      "    TensorFlow and Theano. The dimension ordering\n",
      "    convention used by the model is the one\n",
      "    specified in your Keras config file.\n",
      "\n",
      "    # Arguments\n",
      "        include_top: whether to include the 3 fully-connected\n",
      "            layers at the top of the network.\n",
      "        weights: one of `None` (random initialization)\n",
      "            or \"imagenet\" (pre-training on ImageNet).\n",
      "        input_tensor: optional Keras tensor (i.e. output of `layers.Input()`)\n",
      "            to use as image input for the model.\n",
      "\n",
      "    # Returns\n",
      "        A Keras model instance.\n",
      "    '''\n",
      "    if weights not in {'imagenet', None}:\n",
      "        raise ValueError('The `weights` argument should be either '\n",
      "                         '`None` (random initialization) or `imagenet` '\n",
      "                         '(pre-training on ImageNet).')\n",
      "    # Determine proper input shape\n",
      "    if K.image_dim_ordering() == 'th':\n",
      "        if include_top:\n",
      "            input_shape = (3, 224, 224)\n",
      "        else:\n",
      "            input_shape = (3, None, None)\n",
      "    else:\n",
      "        if include_top:\n",
      "            input_shape = (224, 224, 3)\n",
      "        else:\n",
      "            input_shape = (None, None, 3)\n",
      "\n",
      "    if input_tensor is None:\n",
      "        img_input = Input(shape=input_shape)\n",
      "    else:\n",
      "        if not K.is_keras_tensor(input_tensor):\n",
      "            img_input = Input(tensor=input_tensor)\n",
      "        else:\n",
      "            img_input = input_tensor\n",
      "    \n",
      "    input_question = Input(shape=(query_in_size,))\n",
      "    # Block 1\n",
      "    x = Convolution2D(64, 3, 3, activation='relu', border_mode='same', name='block1_conv1')(img_input)\n",
      "    x = Convolution2D(64, 3, 3, activation='relu', border_mode='same', name='block1_conv2')(x)\n",
      "    x = MaxPooling2D((2, 2), strides=(2, 2), name='block1_pool')(x)\n",
      "\n",
      "    # Block 2\n",
      "    x = Convolution2D(128, 3, 3, activation='relu', border_mode='same', name='block2_conv1')(x)\n",
      "    x = Convolution2D(128, 3, 3, activation='relu', border_mode='same', name='block2_conv2')(x)\n",
      "    x = MaxPooling2D((2, 2), strides=(2, 2), name='block2_pool')(x)\n",
      "\n",
      "    # Block 3\n",
      "    x = Convolution2D(256, 3, 3, activation='relu', border_mode='same', name='block3_conv1')(x)\n",
      "    x = Convolution2D(256, 3, 3, activation='relu', border_mode='same', name='block3_conv2')(x)\n",
      "    x = Convolution2D(256, 3, 3, activation='relu', border_mode='same', name='block3_conv3')(x)\n",
      "    x = Convolution2D(256, 3, 3, activation='relu', border_mode='same', name='block3_conv4')(x)\n",
      "    x = MaxPooling2D((2, 2), strides=(2, 2), name='block3_pool')(x)\n",
      "    \n",
      "    # Attention for Block3  \n",
      "    f_1 = Reshape((256, 28*28), name='att1_reshape')(x)\n",
      "    f_1 = Permute((2,1), name='att1_permute')(f_1)\n",
      "    q_1   = Dense(query_embed_size, activation='relu', name='att1_q')(input_question)  # Encode question\n",
      "    # Add question embedding to each feature column\n",
      "    q_1   = RepeatVector(28*28, name='att1_repeat')(q_1)\n",
      "    q_f   = merge([f_1, q_1], 'concat')\n",
      "    # Estimate and apply attention per feature\n",
      "    att_1 = TimeDistributedDense(1, activation=\"sigmoid\", name='att1_attention')(q_f)\n",
      "    att_1 = Lambda(repeat_1, output_shape=(28*28, 256), name=\"att1_lambda\")(att_1)\n",
      "    att_1 = merge([f_1, att_1], 'mul', name=\"att1_merge\")\n",
      "    # Reshape to the original feature map from previous layer\n",
      "    att_1 = Permute((2,1), name='att1_re-permute')(att_1)\n",
      "    x = Reshape((256, 28, 28), name='att1_re-reshape')(att_1)\n",
      " \n",
      "    # Block 4\n",
      "    x = Convolution2D(512, 3, 3, activation='relu', border_mode='same', name='block4_conv1')(x)\n",
      "    x = Convolution2D(512, 3, 3, activation='relu', border_mode='same', name='block4_conv2')(x)\n",
      "    x = Convolution2D(512, 3, 3, activation='relu', border_mode='same', name='block4_conv3')(x)\n",
      "    x = Convolution2D(512, 3, 3, activation='relu', border_mode='same', name='block4_conv4')(x)\n",
      "    x = MaxPooling2D((2, 2), strides=(2, 2), name='block4_pool')(x)\n",
      "    \n",
      "    \n",
      "    # Attention for Block4\n",
      "    f_1 = Reshape((512, 14*14), name='att2_reshape')(x)\n",
      "    f_1 = Permute((2,1), name='att2_permute')(f_1)\n",
      "    q_1   = Dense(query_embed_size, activation='relu', name='att2_q')(input_question)  # Encode question\n",
      "    # Add question embedding to each feature column\n",
      "    q_1   = RepeatVector(14*14, name='att2_repeat')(q_1)\n",
      "    q_f   = merge([f_1, q_1], 'concat')\n",
      "    # Estimate and apply attention per feature\n",
      "    att_1 = TimeDistributedDense(1, activation=\"sigmoid\", name='att2_attention')(q_f)\n",
      "    att_1 = Lambda(repeat_1, output_shape=(14*14, 512), name=\"att2_lambda\")(att_1)\n",
      "    att_1 = merge([f_1, att_1], 'mul', name=\"att2_merge\")\n",
      "    # Reshape to the original feature map from previous layer\n",
      "    att_1 = Permute((2,1), name='att2_re-permute')(att_1)\n",
      "    x = Reshape((512, 14, 14), name='att2_re-reshape')(att_1)\n",
      "    \n",
      "\n",
      "    # Block 5\n",
      "    x = Convolution2D(512, 3, 3, activation='relu', border_mode='same', name='block5_conv1')(x)\n",
      "    x = Convolution2D(512, 3, 3, activation='relu', border_mode='same', name='block5_conv2')(x)\n",
      "    x = Convolution2D(512, 3, 3, activation='relu', border_mode='same', name='block5_conv3')(x)\n",
      "    x = Convolution2D(512, 3, 3, activation='relu', border_mode='same', name='block5_conv4')(x)\n",
      "    x = MaxPooling2D((2, 2), strides=(2, 2), name='block5_pool')(x)\n",
      "    \n",
      "        \n",
      "    # Attention for Block5\n",
      "    f_1 = Reshape((512, 7*7), name='att3_reshape')(x)\n",
      "    f_1 = Permute((2,1), name='att3_permute')(f_1)\n",
      "    q_1   = Dense(query_embed_size, activation='relu', name='att3_q')(input_question)  # Encode question\n",
      "    # Add question embedding to each feature column\n",
      "    q_1   = RepeatVector(7*7, name='att3_repeat')(q_1)\n",
      "    q_f   = merge([f_1, q_1], 'concat')\n",
      "    # Estimate and apply attention per feature\n",
      "    att_1 = TimeDistributedDense(1, activation=\"sigmoid\", name='att3_attention')(q_f)\n",
      "    att_1 = Lambda(repeat_1, output_shape=(7*7, 512), name=\"att3_lambda\")(att_1)\n",
      "    att_1 = merge([f_1, att_1], 'mul', name=\"att3_merge\")\n",
      "    # Reshape to the original feature map from previous layer\n",
      "    att_1 = Permute((2,1), name='att3_re-permute')(att_1)\n",
      "    x = Reshape((512, 7, 7), name='att3_re-reshape')(att_1)\n",
      "\n",
      "    if include_top:\n",
      "        # Classification block\n",
      "        x = Flatten(name='flatten')(x)\n",
      "        x = Dense(4096, activation='relu', name='fc1')(x)\n",
      "        x = Dense(4096, activation='relu', name='fc2')(x)\n",
      "        x = Dense(1000, activation='softmax', name='predictions')(x)\n",
      "\n",
      "    # Create model\n",
      "    model = Model([img_input, input_question], x)\n",
      "\n",
      "    # load weights\n",
      "    if weights == 'imagenet':\n",
      "        print('K.image_dim_ordering:', K.image_dim_ordering())\n",
      "        if K.image_dim_ordering() == 'th':\n",
      "            if include_top:\n",
      "                weights_path = get_file('vgg19_weights_th_dim_ordering_th_kernels.h5',\n",
      "                                        TH_WEIGHTS_PATH,\n",
      "                                        cache_subdir='models')\n",
      "            else:\n",
      "                weights_path = get_file('vgg19_weights_th_dim_ordering_th_kernels_notop.h5',\n",
      "                                        TH_WEIGHTS_PATH_NO_TOP,\n",
      "                                        cache_subdir='models')\n",
      "            model.load_weights(weights_path, by_name=True)\n",
      "            if K.backend() == 'tensorflow':\n",
      "                warnings.warn('You are using the TensorFlow backend, yet you '\n",
      "                              'are using the Theano '\n",
      "                              'image dimension ordering convention '\n",
      "                              '(`image_dim_ordering=\"th\"`). '\n",
      "                              'For best performance, set '\n",
      "                              '`image_dim_ordering=\"tf\"` in '\n",
      "                              'your Keras config '\n",
      "                              'at ~/.keras/keras.json.')\n",
      "                convert_all_kernels_in_model(model)\n",
      "        else:\n",
      "            if include_top:\n",
      "                weights_path = get_file('vgg19_weights_tf_dim_ordering_tf_kernels.h5',\n",
      "                                        TF_WEIGHTS_PATH,\n",
      "                                        cache_subdir='models')\n",
      "            else:\n",
      "                weights_path = get_file('vgg19_weights_tf_dim_ordering_tf_kernels_notop.h5',\n",
      "                                        TF_WEIGHTS_PATH_NO_TOP,\n",
      "                                        cache_subdir='models')\n",
      "            model.load_weights(weights_path)\n",
      "            if K.backend() == 'theano':\n",
      "                convert_all_kernels_in_model(model)\n",
      "    return model\n"
     ],
     "language": "python",
     "metadata": {},
     "outputs": [],
     "prompt_number": 64
    },
    {
     "cell_type": "code",
     "collapsed": false,
     "input": [
      "vgg = VGG19(weights='imagenet')"
     ],
     "language": "python",
     "metadata": {},
     "outputs": [
      {
       "output_type": "stream",
       "stream": "stdout",
       "text": [
        "K.image_dim_ordering: th\n"
       ]
      }
     ],
     "prompt_number": 65
    },
    {
     "cell_type": "code",
     "collapsed": false,
     "input": [
      "for i in vgg.layers:\n",
      "    print( i.name )"
     ],
     "language": "python",
     "metadata": {},
     "outputs": [
      {
       "output_type": "stream",
       "stream": "stdout",
       "text": [
        "input_30\n",
        "block1_conv1\n",
        "block1_conv2\n",
        "block1_pool\n",
        "block2_conv1\n",
        "block2_conv2\n",
        "block2_pool\n",
        "block3_conv1\n",
        "block3_conv2\n",
        "block3_conv3\n",
        "block3_conv4\n",
        "block3_pool\n",
        "input_31\n",
        "att1_reshape\n",
        "att1_q\n",
        "att1_permute\n",
        "att1_repeat\n",
        "merge_8\n",
        "att1_attention\n",
        "att1_lambda\n",
        "att1_merge\n",
        "att1_re-permute\n",
        "att1_re-reshape\n",
        "block4_conv1\n",
        "block4_conv2\n",
        "block4_conv3\n",
        "block4_conv4\n",
        "block4_pool\n",
        "att2_reshape\n",
        "att2_q\n",
        "att2_permute\n",
        "att2_repeat\n",
        "merge_9\n",
        "att2_attention\n",
        "att2_lambda\n",
        "att2_merge\n",
        "att2_re-permute\n",
        "att2_re-reshape\n",
        "block5_conv1\n",
        "block5_conv2\n",
        "block5_conv3\n",
        "block5_conv4\n",
        "block5_pool\n",
        "flatten\n",
        "fc1\n",
        "fc2\n",
        "predictions\n"
       ]
      }
     ],
     "prompt_number": 66
    },
    {
     "cell_type": "code",
     "collapsed": false,
     "input": [
      "vgg.summary()"
     ],
     "language": "python",
     "metadata": {},
     "outputs": [
      {
       "output_type": "stream",
       "stream": "stdout",
       "text": [
        "____________________________________________________________________________________________________\n",
        "Layer (type)                     Output Shape          Param #     Connected to                     \n",
        "====================================================================================================\n",
        "input_30 (InputLayer)            (None, 3, 224, 224)   0                                            \n",
        "____________________________________________________________________________________________________\n",
        "block1_conv1 (Convolution2D)     (None, 64, 224, 224)  1792        input_30[0][0]                   \n",
        "____________________________________________________________________________________________________\n",
        "block1_conv2 (Convolution2D)     (None, 64, 224, 224)  36928       block1_conv1[0][0]               "
       ]
      },
      {
       "output_type": "stream",
       "stream": "stdout",
       "text": [
        "\n",
        "____________________________________________________________________________________________________\n",
        "block1_pool (MaxPooling2D)       (None, 64, 112, 112)  0           block1_conv2[0][0]               \n",
        "____________________________________________________________________________________________________\n",
        "block2_conv1 (Convolution2D)     (None, 128, 112, 112) 73856       block1_pool[0][0]                \n",
        "____________________________________________________________________________________________________\n",
        "block2_conv2 (Convolution2D)     (None, 128, 112, 112) 147584      block2_conv1[0][0]               "
       ]
      },
      {
       "output_type": "stream",
       "stream": "stdout",
       "text": [
        "\n",
        "____________________________________________________________________________________________________\n",
        "block2_pool (MaxPooling2D)       (None, 128, 56, 56)   0           block2_conv2[0][0]               \n",
        "____________________________________________________________________________________________________\n",
        "block3_conv1 (Convolution2D)     (None, 256, 56, 56)   295168      block2_pool[0][0]                \n",
        "____________________________________________________________________________________________________\n",
        "block3_conv2 (Convolution2D)     (None, 256, 56, 56)   590080      block3_conv1[0][0]               "
       ]
      },
      {
       "output_type": "stream",
       "stream": "stdout",
       "text": [
        "\n",
        "____________________________________________________________________________________________________\n",
        "block3_conv3 (Convolution2D)     (None, 256, 56, 56)   590080      block3_conv2[0][0]               \n",
        "____________________________________________________________________________________________________\n",
        "block3_conv4 (Convolution2D)     (None, 256, 56, 56)   590080      block3_conv3[0][0]               "
       ]
      },
      {
       "output_type": "stream",
       "stream": "stdout",
       "text": [
        "\n",
        "____________________________________________________________________________________________________\n",
        "block3_pool (MaxPooling2D)       (None, 256, 28, 28)   0           block3_conv4[0][0]               \n",
        "____________________________________________________________________________________________________\n",
        "input_31 (InputLayer)            (None, 300)           0                                            \n",
        "____________________________________________________________________________________________________\n",
        "att1_reshape (Reshape)           (None, 256, 784)      0           block3_pool[0][0]                \n",
        "____________________________________________________________________________________________________\n",
        "att1_q (Dense)                   (None, 100)           30100       input_31[0][0]                   \n",
        "____________________________________________________________________________________________________\n",
        "att1_permute (Permute)           (None, 784, 256)      0           att1_reshape[0][0]               "
       ]
      },
      {
       "output_type": "stream",
       "stream": "stdout",
       "text": [
        "\n",
        "____________________________________________________________________________________________________\n",
        "att1_repeat (RepeatVector)       (None, 784, 100)      0           att1_q[0][0]                     \n",
        "____________________________________________________________________________________________________\n",
        "merge_8 (Merge)                  (None, 784, 356)      0           att1_permute[0][0]               \n",
        "                                                                   att1_repeat[0][0]                \n",
        "____________________________________________________________________________________________________\n",
        "att1_attention (TimeDistributedDe(None, 784, 1)        357         merge_8[0][0]                    \n",
        "____________________________________________________________________________________________________\n",
        "att1_lambda (Lambda)             (None, 784, 256)      0           att1_attention[0][0]             \n",
        "____________________________________________________________________________________________________\n",
        "att1_merge (Merge)               (None, 784, 256)      0           att1_permute[0][0]               \n",
        "                                                                   att1_lambda[0][0]                \n",
        "____________________________________________________________________________________________________\n",
        "att1_re-permute (Permute)        (None, 256, 784)      0           att1_merge[0][0]                 \n",
        "____________________________________________________________________________________________________\n",
        "att1_re-reshape (Reshape)        (None, 256, 28, 28)   0           att1_re-permute[0][0]            \n",
        "____________________________________________________________________________________________________\n",
        "block4_conv1 (Convolution2D)     (None, 512, 28, 28)   1180160     att1_re-reshape[0][0]            "
       ]
      },
      {
       "output_type": "stream",
       "stream": "stdout",
       "text": [
        "\n",
        "____________________________________________________________________________________________________\n",
        "block4_conv2 (Convolution2D)     (None, 512, 28, 28)   2359808     block4_conv1[0][0]               \n",
        "____________________________________________________________________________________________________\n",
        "block4_conv3 (Convolution2D)     (None, 512, 28, 28)   2359808     block4_conv2[0][0]               "
       ]
      },
      {
       "output_type": "stream",
       "stream": "stdout",
       "text": [
        "\n",
        "____________________________________________________________________________________________________\n",
        "block4_conv4 (Convolution2D)     (None, 512, 28, 28)   2359808     block4_conv3[0][0]               \n",
        "____________________________________________________________________________________________________\n",
        "block4_pool (MaxPooling2D)       (None, 512, 14, 14)   0           block4_conv4[0][0]               "
       ]
      },
      {
       "output_type": "stream",
       "stream": "stdout",
       "text": [
        "\n",
        "____________________________________________________________________________________________________\n",
        "att2_reshape (Reshape)           (None, 512, 196)      0           block4_pool[0][0]                \n",
        "____________________________________________________________________________________________________\n",
        "att2_q (Dense)                   (None, 100)           30100       input_31[0][0]                   \n",
        "____________________________________________________________________________________________________\n",
        "att2_permute (Permute)           (None, 196, 512)      0           att2_reshape[0][0]               \n",
        "____________________________________________________________________________________________________\n",
        "att2_repeat (RepeatVector)       (None, 196, 100)      0           att2_q[0][0]                     \n",
        "____________________________________________________________________________________________________\n",
        "merge_9 (Merge)                  (None, 196, 612)      0           att2_permute[0][0]               \n",
        "                                                                   att2_repeat[0][0]                \n",
        "____________________________________________________________________________________________________\n",
        "att2_attention (TimeDistributedDe(None, 196, 1)        613         merge_9[0][0]                    "
       ]
      },
      {
       "output_type": "stream",
       "stream": "stdout",
       "text": [
        "\n",
        "____________________________________________________________________________________________________\n",
        "att2_lambda (Lambda)             (None, 196, 512)      0           att2_attention[0][0]             "
       ]
      },
      {
       "output_type": "stream",
       "stream": "stdout",
       "text": [
        "\n",
        "____________________________________________________________________________________________________\n",
        "att2_merge (Merge)               (None, 196, 512)      0           att2_permute[0][0]               \n",
        "                                                                   att2_lambda[0][0]                \n",
        "____________________________________________________________________________________________________\n",
        "att2_re-permute (Permute)        (None, 512, 196)      0           att2_merge[0][0]                 \n",
        "____________________________________________________________________________________________________\n",
        "att2_re-reshape (Reshape)        (None, 512, 14, 14)   0           att2_re-permute[0][0]            \n",
        "____________________________________________________________________________________________________\n",
        "block5_conv1 (Convolution2D)     (None, 512, 14, 14)   2359808     att2_re-reshape[0][0]            \n",
        "____________________________________________________________________________________________________\n",
        "block5_conv2 (Convolution2D)     (None, 512, 14, 14)   2359808     block5_conv1[0][0]               "
       ]
      },
      {
       "output_type": "stream",
       "stream": "stdout",
       "text": [
        "\n",
        "____________________________________________________________________________________________________\n",
        "block5_conv3 (Convolution2D)     (None, 512, 14, 14)   2359808     block5_conv2[0][0]               \n",
        "____________________________________________________________________________________________________\n",
        "block5_conv4 (Convolution2D)     (None, 512, 14, 14)   2359808     block5_conv3[0][0]               "
       ]
      },
      {
       "output_type": "stream",
       "stream": "stdout",
       "text": [
        "\n",
        "____________________________________________________________________________________________________\n",
        "block5_pool (MaxPooling2D)       (None, 512, 7, 7)     0           block5_conv4[0][0]               \n",
        "____________________________________________________________________________________________________\n",
        "flatten (Flatten)                (None, 25088)         0           block5_pool[0][0]                \n",
        "____________________________________________________________________________________________________\n",
        "fc1 (Dense)                      (None, 4096)          102764544   flatten[0][0]                    \n",
        "____________________________________________________________________________________________________\n",
        "fc2 (Dense)                      (None, 4096)          16781312    fc1[0][0]                        "
       ]
      },
      {
       "output_type": "stream",
       "stream": "stdout",
       "text": [
        "\n",
        "____________________________________________________________________________________________________\n",
        "predictions (Dense)              (None, 1000)          4097000     fc2[0][0]                        \n",
        "====================================================================================================\n",
        "Total params: 143728410"
       ]
      },
      {
       "output_type": "stream",
       "stream": "stdout",
       "text": [
        "\n",
        "____________________________________________________________________________________________________\n"
       ]
      }
     ],
     "prompt_number": 67
    }
   ],
   "metadata": {}
  }
 ]
}